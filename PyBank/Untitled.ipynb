{
 "cells": [
  {
   "cell_type": "code",
   "execution_count": 1,
   "metadata": {},
   "outputs": [],
   "source": [
    "# First we'll import the os module\n",
    "# This will allow us to create file paths across operating systems\n",
    "import os\n",
    "\n",
    "# Module for reading CSV's\n",
    "import csv\n",
    "\n",
    "csvpath = os.path.join('raw_data','budget_data_1.csv')"
   ]
  },
  {
   "cell_type": "code",
   "execution_count": 2,
   "metadata": {},
   "outputs": [
    {
     "name": "stdout",
     "output_type": "stream",
     "text": [
      "41\n"
     ]
    }
   ],
   "source": [
    "# Part 1 - Calculate total number  of months in the dataset\n",
    "with open(csvpath, newline='') as csvfile:\n",
    "\n",
    "    # CSV reader specifies delimiter and variable that holds contents\n",
    "    csvreader = csv.reader(csvfile, delimiter=',')\n",
    "    \n",
    "    total_months = sum(1 for line in open(csvpath))-1\n",
    "print(total_months)"
   ]
  },
  {
   "cell_type": "code",
   "execution_count": 3,
   "metadata": {},
   "outputs": [
    {
     "name": "stdout",
     "output_type": "stream",
     "text": [
      "18971412\n"
     ]
    }
   ],
   "source": [
    "# Part 2 - Calculate total revenue over period\n",
    "with open(csvpath, newline='') as csvfile:\n",
    "    csvreader = csv.reader(csvfile, delimiter=',')\n",
    "    next(csvreader)\n",
    "    \n",
    "    total_revenue = 0\n",
    "    \n",
    "    for row in csvreader:\n",
    "        total_revenue = total_revenue + int(float(row[1]))\n",
    "    \n",
    "    print (total_revenue)"
   ]
  },
  {
   "cell_type": "code",
   "execution_count": 4,
   "metadata": {},
   "outputs": [
    {
     "name": "stdout",
     "output_type": "stream",
     "text": [
      "-6594\n"
     ]
    }
   ],
   "source": [
    "# Part 3 - Calculate average change in revenue between months\n",
    "Date = []\n",
    "Revenue =[]\n",
    "Average_change = [0]\n",
    "\n",
    "\n",
    "with open(csvpath, newline='') as csvfile:\n",
    "    data = csv.reader(csvfile, delimiter=',')\n",
    "    next(data)\n",
    "    \n",
    "    for row in data:\n",
    "        Date.append(row[0])\n",
    "        Revenue.append(row[1])\n",
    "        \n",
    "        counter = 0\n",
    "        y = 0\n",
    "\n",
    "for counter in range(0, len(Date)-1):    \n",
    "    y = counter + 1\n",
    "    rev_change = int(float(Revenue[y]))-int(float(Revenue[counter]))\n",
    "    Average_change.append(rev_change)\n",
    "\n",
    "# Zip all three lists together into tuples\n",
    "combine_data = zip(Date, Revenue, Average_change)\n",
    "\n",
    "# save the output file path\n",
    "# output_file = os.path.join(\"output.csv\")\n",
    "\n",
    "# open the output file\n",
    "# with open(output_file, \"w\", newline=\"\") as datafile:\n",
    "#    writer = csv.writer(datafile)\n",
    "\n",
    " #   Create a header row\n",
    "   # writer.writerow([\"Date\", \"Revenue\", \"Average Revenue Change\"])\n",
    "\n",
    "    # write the zipped object to the csv file using `writer.writerows`\n",
    "  #  writer.writerows(combine_data)\n",
    "\n",
    "a = int(float(sum(Average_change)/len(Average_change)))\n",
    "print (a)"
   ]
  },
  {
   "cell_type": "code",
   "execution_count": 5,
   "metadata": {},
   "outputs": [
    {
     "name": "stdout",
     "output_type": "stream",
     "text": [
      "Feb-16 1837235\n"
     ]
    }
   ],
   "source": [
    "# Part 4 - Calculate greatest increase in revenue\n",
    "b = Average_change.index(max(Average_change))\n",
    "c = Date[b]\n",
    "d = max(Average_change)\n",
    "print (c,d)"
   ]
  },
  {
   "cell_type": "code",
   "execution_count": 6,
   "metadata": {},
   "outputs": [
    {
     "name": "stdout",
     "output_type": "stream",
     "text": [
      "Aug-14 -1779747\n"
     ]
    }
   ],
   "source": [
    "# Part 5 - Calculate greatest decrease in revenue\n",
    "e = Average_change.index(min(Average_change))\n",
    "f = Date[e]\n",
    "g = min(Average_change)\n",
    "print (f,g)"
   ]
  },
  {
   "cell_type": "code",
   "execution_count": 10,
   "metadata": {},
   "outputs": [
    {
     "name": "stdout",
     "output_type": "stream",
     "text": [
      "Financial Analysis\n",
      "-------------------------------------\n",
      "Total Months: 41\n",
      "Total Revenue: $18971412\n",
      "Average Revenue Change: $-6594\n",
      "Greatest Increase in Revenue: Feb-16($1837235)\n",
      "Greatest Decrease in Revenue: Aug-14($-1779747)\n"
     ]
    }
   ],
   "source": [
    "# Part 6 - Print Summary\n",
    "print (\"Financial Analysis\")\n",
    "print (\"-------------------------------------\")\n",
    "print (\"Total Months: \"+ str(total_months))\n",
    "print (\"Total Revenue: $\"+ str(total_revenue))\n",
    "print (\"Average Revenue Change: $\" +str(a))\n",
    "print (\"Greatest Increase in Revenue: \"+ c + \"($\"+str(d)+\")\")\n",
    "print (\"Greatest Decrease in Revenue: \"+ f + \"($\"+str(g)+\")\")\n"
   ]
  },
  {
   "cell_type": "code",
   "execution_count": null,
   "metadata": {},
   "outputs": [],
   "source": []
  }
 ],
 "metadata": {
  "kernelspec": {
   "display_name": "Python 3",
   "language": "python",
   "name": "python3"
  },
  "language_info": {
   "codemirror_mode": {
    "name": "ipython",
    "version": 3
   },
   "file_extension": ".py",
   "mimetype": "text/x-python",
   "name": "python",
   "nbconvert_exporter": "python",
   "pygments_lexer": "ipython3",
   "version": "3.6.4"
  }
 },
 "nbformat": 4,
 "nbformat_minor": 2
}
